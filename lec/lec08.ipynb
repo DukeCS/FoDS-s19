{
 "cells": [
  {
   "cell_type": "code",
   "execution_count": null,
   "metadata": {},
   "outputs": [],
   "source": [
    "from datascience import *\n",
    "import numpy as np\n",
    "\n",
    "import matplotlib.pyplot as plots\n",
    "plots.style.use('fivethirtyeight')\n",
    "%matplotlib inline"
   ]
  },
  {
   "cell_type": "markdown",
   "metadata": {},
   "source": [
    "## Midterms and Section Scores"
   ]
  },
  {
   "cell_type": "code",
   "execution_count": null,
   "metadata": {},
   "outputs": [],
   "source": [
    "scores = Table.read_table('scores_by_section.csv')\n",
    "scores"
   ]
  },
  {
   "cell_type": "code",
   "execution_count": null,
   "metadata": {},
   "outputs": [],
   "source": [
    "# Look at the data by section\n",
    "# How many students are in each section\n",
    "scores.group('Section')\n",
    "# What was the average score in each section?\n"
   ]
  },
  {
   "cell_type": "code",
   "execution_count": null,
   "metadata": {},
   "outputs": [],
   "source": [
    "scores.group('Section',np.average).show(14)"
   ]
  },
  {
   "cell_type": "markdown",
   "metadata": {},
   "source": [
    "### Possible Hypotheses\n",
    "\n",
    "- **Null**: The Section 3 average is like the average of the *same number* of random scores from the class.\n",
    "- **Alternative**: No, the Section 3 average is too low."
   ]
  },
  {
   "cell_type": "code",
   "execution_count": null,
   "metadata": {},
   "outputs": [],
   "source": [
    "# observed statistic\n",
    "obs_av = 13.6667\n",
    "# #students in section 3\n",
    "students = 27\n"
   ]
  },
  {
   "cell_type": "code",
   "execution_count": null,
   "metadata": {},
   "outputs": [],
   "source": [
    "np.average(scores.sample(students, with_replacement=False).column('Midterm'))"
   ]
  },
  {
   "cell_type": "code",
   "execution_count": null,
   "metadata": {},
   "outputs": [],
   "source": [
    "# Sample from the scores repetitions times and save the average scores in averages\n",
    "averages = make_array()\n",
    "repetitions = 50000\n",
    "for i in np.arange(repetitions):\n",
    "    averages = np.append(averages, np.average(scores.sample(students, with_replacement=False).column('Midterm')))\n"
   ]
  },
  {
   "cell_type": "code",
   "execution_count": null,
   "metadata": {},
   "outputs": [],
   "source": [
    "np.average(averages)\n",
    "# Plot the Random sample average with 25 bins\n",
    "Table().with_column('Sample Average',averages).hist(bins = 25)\n",
    "# Add a point with the observed statistic (average from Section 3)\n",
    "plots.scatter(obs_av, 0, s=30, color='red')\n",
    "plots.plot([obs_av,obs_av], [0, .35], color ='red')\n",
    "plots.plot([13.6,13.6], [0, .35], color ='yellow')\n"
   ]
  },
  {
   "cell_type": "code",
   "execution_count": null,
   "metadata": {},
   "outputs": [],
   "source": [
    "# What proportion of the scores from the sample are below the observed average from Section 3\n",
    "np.count_nonzero(averages < obs_av)/repetitions"
   ]
  },
  {
   "cell_type": "code",
   "execution_count": null,
   "metadata": {},
   "outputs": [],
   "source": [
    "# How sensitive is this proportion to small perturbations in the observed average?\n",
    "np.count_nonzero(averages < 13.6)/repetitions"
   ]
  },
  {
   "cell_type": "markdown",
   "metadata": {},
   "source": [
    "## Smoking & Baby Birthweight"
   ]
  },
  {
   "cell_type": "code",
   "execution_count": null,
   "metadata": {},
   "outputs": [],
   "source": [
    "baby = Table.read_table('baby.csv')\n",
    "baby"
   ]
  },
  {
   "cell_type": "code",
   "execution_count": null,
   "metadata": {},
   "outputs": [],
   "source": [
    "smoking_and_birthweight = baby.select('Maternal Smoker', 'Birth Weight')"
   ]
  },
  {
   "cell_type": "code",
   "execution_count": null,
   "metadata": {},
   "outputs": [],
   "source": [
    "smoking_and_birthweight.group('Maternal Smoker')"
   ]
  },
  {
   "cell_type": "code",
   "execution_count": null,
   "metadata": {},
   "outputs": [],
   "source": [
    "smoking_and_birthweight.hist('Birth Weight', group='Maternal Smoker')"
   ]
  },
  {
   "cell_type": "code",
   "execution_count": null,
   "metadata": {},
   "outputs": [],
   "source": [
    "means = smoking_and_birthweight.group('Maternal Smoker', np.mean)\n",
    "mw = means.column(1)"
   ]
  },
  {
   "cell_type": "code",
   "execution_count": null,
   "metadata": {},
   "outputs": [],
   "source": [
    "mw.item(0) - mw.item(1)"
   ]
  },
  {
   "attachments": {},
   "cell_type": "markdown",
   "metadata": {},
   "source": [
    "## Deflategate\n",
    "\n",
    "From the [Wells Report](https://www.washingtonpost.com/apps/g/page/sports/deflategate-the-full-ted-wells-report/1687/):\n",
    "\n",
    "> On January 18, 2015, the New England Patriots and Indianapolis Colts played in the AFC Championship Game at Gillette Stadium in Foxborough, Massachusetts to determine which team would advance to Super Bowl XLIX. During the first half of the game, a question was raised by the Colts concerning the inflation level of the footballs being used by the Patriots. As a result, at halftime, members of the officiating crew assigned to the game, overseen by a senior officiating supervisor from the National Football League (the “NFL” or the “League”), tested the air pressure of footballs being used by each of the Patriots and the Colts. All eleven of the Patriots game balls tested measured below the minimum pressure level of 12.5 pounds per square inch (“psi”) allowed by Rule 2 of the Official Playing Rules of the National Football League (the “Playing Rules”) on both of two air pressure gauges used to test the balls. The four Colts balls tested each measured within the 12.5 to 13.5 psi range permitted under the Playing Rules on at least one of the gauges used for the tests"
   ]
  },
  {
   "cell_type": "code",
   "execution_count": null,
   "metadata": {},
   "outputs": [],
   "source": [
    "football = Table.read_table('deflategate.csv')\n",
    "football.show()"
   ]
  },
  {
   "cell_type": "code",
   "execution_count": null,
   "metadata": {},
   "outputs": [],
   "source": [
    "football = football.drop(1, 2).with_column(\n",
    "    'Combined', (football.column(1)+football.column(2))/2\n",
    "    )\n",
    "football.show()"
   ]
  },
  {
   "cell_type": "code",
   "execution_count": null,
   "metadata": {},
   "outputs": [],
   "source": []
  },
  {
   "cell_type": "code",
   "execution_count": null,
   "metadata": {},
   "outputs": [],
   "source": []
  },
  {
   "cell_type": "code",
   "execution_count": null,
   "metadata": {},
   "outputs": [],
   "source": []
  },
  {
   "cell_type": "markdown",
   "metadata": {},
   "source": [
    "## Causality\n",
    "Consider the the effect of using Botulinum Toxin A as a treatment for lower back pain. Thirty one patients with low-back pain were randomized into treatment and control groups, with 15 given Botulinum Toxin A as *treatment* and 16 in given Saline as *control*. "
   ]
  },
  {
   "cell_type": "code",
   "execution_count": null,
   "metadata": {},
   "outputs": [],
   "source": [
    "bta = Table.read_table('bta.csv')\n",
    "bta.show()"
   ]
  },
  {
   "cell_type": "code",
   "execution_count": null,
   "metadata": {},
   "outputs": [],
   "source": []
  },
  {
   "cell_type": "code",
   "execution_count": null,
   "metadata": {},
   "outputs": [],
   "source": []
  },
  {
   "cell_type": "code",
   "execution_count": null,
   "metadata": {},
   "outputs": [],
   "source": []
  }
 ],
 "metadata": {
  "kernelspec": {
   "display_name": "Python 3",
   "language": "python",
   "name": "python3"
  },
  "language_info": {
   "codemirror_mode": {
    "name": "ipython",
    "version": 3
   },
   "file_extension": ".py",
   "mimetype": "text/x-python",
   "name": "python",
   "nbconvert_exporter": "python",
   "pygments_lexer": "ipython3",
   "version": "3.6.5"
  }
 },
 "nbformat": 4,
 "nbformat_minor": 2
}
