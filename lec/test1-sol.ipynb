{
 "cells": [
  {
   "cell_type": "code",
   "execution_count": 2,
   "metadata": {},
   "outputs": [
    {
     "name": "stderr",
     "output_type": "stream",
     "text": [
      "/usr/lib/python3.6/importlib/_bootstrap.py:219: RuntimeWarning: numpy.dtype size changed, may indicate binary incompatibility. Expected 96, got 88\n",
      "  return f(*args, **kwds)\n"
     ]
    }
   ],
   "source": [
    "from datascience import *\n",
    "import numpy as np\n",
    "\n",
    "%matplotlib inline\n",
    "import matplotlib.pyplot as plots\n",
    "plots.style.use('fivethirtyeight')"
   ]
  },
  {
   "cell_type": "markdown",
   "metadata": {},
   "source": [
    "## 1. Multiple Choice\n",
    "1.1 A & D\n",
    "\n",
    "1.2 B"
   ]
  },
  {
   "cell_type": "markdown",
   "metadata": {},
   "source": [
    "## 2. Expressions"
   ]
  },
  {
   "cell_type": "code",
   "execution_count": 28,
   "metadata": {},
   "outputs": [
    {
     "data": {
      "text/html": [
       "<table border=\"1\" class=\"dataframe\">\n",
       "    <thead>\n",
       "        <tr>\n",
       "            <th>First</th> <th>Second</th> <th>Third</th>\n",
       "        </tr>\n",
       "    </thead>\n",
       "    <tbody>\n",
       "        <tr>\n",
       "            <td>0    </td> <td>0     </td> <td>False</td>\n",
       "        </tr>\n",
       "        <tr>\n",
       "            <td>1    </td> <td>1     </td> <td>False</td>\n",
       "        </tr>\n",
       "        <tr>\n",
       "            <td>2    </td> <td>4     </td> <td>True </td>\n",
       "        </tr>\n",
       "        <tr>\n",
       "            <td>3    </td> <td>9     </td> <td>False</td>\n",
       "        </tr>\n",
       "    </tbody>\n",
       "</table>"
      ],
      "text/plain": [
       "First | Second | Third\n",
       "0     | 0      | False\n",
       "1     | 1      | False\n",
       "2     | 4      | True\n",
       "3     | 9      | False"
      ]
     },
     "execution_count": 28,
     "metadata": {},
     "output_type": "execute_result"
    }
   ],
   "source": [
    "# 2.1\n",
    "a = np.arange(4)                                                                                                                          \n",
    "b = make_array(2, 2, 2, 2)                                                                                                                \n",
    "c = make_array('a','b','c','d')                                                                                                           \n",
    "t = Table().with_columns(                                                                                                                 \n",
    "  \"First\", a,                                                                                                                             \n",
    "  \"Second\", a**b,                                                                                                                         \n",
    "  \"Third\", a == b,                                                                                                                        \n",
    ") \n",
    "t"
   ]
  },
  {
   "cell_type": "code",
   "execution_count": 6,
   "metadata": {},
   "outputs": [
    {
     "data": {
      "text/plain": [
       "15.0"
      ]
     },
     "execution_count": 6,
     "metadata": {},
     "output_type": "execute_result"
    }
   ],
   "source": [
    "# 2.2\n",
    "\n",
    "x = 5                                                                                                                                     \n",
    "y = 3                                                                                                                                     \n",
    "z = 2                                                                                                                                     \n",
    "a = 6                                                                                                                                     \n",
    "b = 4                                                                                                                                     \n",
    "c = 1                                                                                                                                     \n",
    "\n",
    "y = y - z   # alpha                                                                                                                     \n",
    "y = y * a   # gamma                                                                                                                     \n",
    "b = b / c   # delta                                                                                                                     \n",
    "x = x + y   # beta                                                                                                                     \n",
    "a = x + b   # epsilon                                                                                                                     \n",
    "\n",
    "a"
   ]
  },
  {
   "cell_type": "code",
   "execution_count": 9,
   "metadata": {},
   "outputs": [
    {
     "data": {
      "text/plain": [
       "(array([20, 15, 35,  7, 35]), array([12, 15, 30, 40,  5]))"
      ]
     },
     "execution_count": 9,
     "metadata": {},
     "output_type": "execute_result"
    }
   ],
   "source": [
    "# 2.3\n",
    "a1 = make_array(5, 15, 25, 35, 45)                                                                                                        \n",
    "a2 = make_array(10, 20, 30, 40, 50)                                                                                                       \n",
    "                                                                                                                                          \n",
    "i = len(a1) - 1                                                                                                                           \n",
    "                                                                                                                                          \n",
    "a2[4] = a1[0]                                                                                                                             \n",
    "a1[i] = a1[3]                                                                                                                             \n",
    "a1[0] = a1[2] -5                                                                                                                          \n",
    "a1[i-2] = a1[i-1]                                                                                                                         \n",
    "a1[3] = a1[i] / a2[4]                                                                                                                     \n",
    "a2[1] = a1[1]                                                                                                                             \n",
    "a2[0] = a1[3] + 5                                                                                                                         \n",
    "\n",
    "a1, a2"
   ]
  },
  {
   "cell_type": "markdown",
   "metadata": {},
   "source": [
    "3.\n",
    "\n",
    "3.1 What is the probability that your enrollment date is before the last day?                                                   \n",
    "\n",
    "$1-1/4 = 3/4$\n",
    "                                                                                                                                          \n",
    "3.2 What is the probability that you can enroll in all your classes on the second day?                                          \\\n",
    "\n",
    "$1/4 \\times (4/5 \\times 4/5 \\times 4/5) = 16/125 = .128$\n",
    "\n",
    "3.3 Let's say that you can only enroll in one class a day from your window day forwards. On your window day, you can attempt to enroll in CompSci 116, CompSci 101 the next day, and Stat 199 the day after. If your window opens on the 2nd day, what is the probability that you will get into all your classes on your first try?         \n",
    "\n",
    "$0.8 \\times 0.6 \\times 0.4  = 0.192$\n",
    "\n",
    "3.4 On the other hand, given that you got into all your classes, what is the probability that your registration windown was on the 1st day?\n",
    "\n",
    "$\\frac{\\frac{1 \\times 0.8 \\times 0.6}{4}}{\\frac{(1 \\times 0.8 \\times 0.6) + (0.8 \\times 0.6 \\times 0.4) + (0.6 \\times 0.4 \\times 0.4) + (0.4 \\times 0.4 \\times 0.4)}{4}} =  0.576923076923077$"
   ]
  },
  {
   "cell_type": "code",
   "execution_count": 12,
   "metadata": {},
   "outputs": [
    {
     "data": {
      "text/plain": [
       "0.576923076923077"
      ]
     },
     "execution_count": 12,
     "metadata": {},
     "output_type": "execute_result"
    }
   ],
   "source": [
    "(1.0 * 0.8 * 0.6)/((1 * 0.8 * 0.6) + (0.8 * 0.6 * 0.4) + (0.6 * 0.4 * 0.4) + (0.4 * 0.4 * 0.4))\n"
   ]
  },
  {
   "cell_type": "code",
   "execution_count": 22,
   "metadata": {},
   "outputs": [],
   "source": [
    "# 4. Tables\n",
    "exercise = Table.read_table('exercise.csv')\n",
    "calories = Table.read_table('calories_per_minute.csv')"
   ]
  },
  {
   "cell_type": "code",
   "execution_count": 34,
   "metadata": {},
   "outputs": [
    {
     "name": "stderr",
     "output_type": "stream",
     "text": [
      "/home/jforbes/.local/lib/python3.6/site-packages/datascience/tables.py:361: FutureWarning: column lists are deprecated; pass each as an argument\n",
      "  \"column lists are deprecated; pass each as an argument\", FutureWarning)\n"
     ]
    }
   ],
   "source": [
    "# 4.1\n",
    "exercise.sort('yoga',descending=True).column('Day').item(0)\n",
    "\n",
    "# 4.2\n",
    "high_intensity = sum(exercise.column('basketball')+exercise.column('sprinting')) > \\\n",
    "sum(exercise.column('yoga')+exercise.column('walking'))\n",
    "\n",
    "# 4.3\n",
    "def compute_calories(y,w,s,b):\n",
    "    minutes = make_array(y,w,s,b)\n",
    "    return sum(calories.column(1)*minutes)\n",
    "\n",
    "def compute_calories_r(row):\n",
    "    # compute by row\n",
    "    return compute_calories(row[1], row[2], row[3], row[4])\n",
    "# 4.4 \n",
    "exercise_totals = exercise.with_column(\"Total Calories\", exercise.apply(compute_calories, make_array(1, 2, 3, 4))) \n",
    "# by row\n",
    "#exercise_totals = exercise.with_column(\"Total Calories\", exercise.apply(compute_calories_r)) \n",
    "\n",
    "# 4.5\n",
    "calories_burned = sum(exercise_totals.where(\"Day\", are.between_or_equal_to(15, 21)).column(\"Total Calories\")) "
   ]
  },
  {
   "cell_type": "code",
   "execution_count": 27,
   "metadata": {},
   "outputs": [
    {
     "data": {
      "text/html": [
       "<table border=\"1\" class=\"dataframe\">\n",
       "    <thead>\n",
       "        <tr>\n",
       "            <th>basketball</th> <th>sprinting</th> <th>Day sum</th> <th>yoga sum</th> <th>walking sum</th>\n",
       "        </tr>\n",
       "    </thead>\n",
       "    <tbody>\n",
       "        <tr>\n",
       "            <td>0         </td> <td>0        </td> <td>376    </td> <td>345     </td> <td>500        </td>\n",
       "        </tr>\n",
       "        <tr>\n",
       "            <td>0         </td> <td>20       </td> <td>13     </td> <td>0       </td> <td>0          </td>\n",
       "        </tr>\n",
       "        <tr>\n",
       "            <td>45        </td> <td>0        </td> <td>14     </td> <td>0       </td> <td>90         </td>\n",
       "        </tr>\n",
       "        <tr>\n",
       "            <td>65        </td> <td>0        </td> <td>2      </td> <td>0       </td> <td>65         </td>\n",
       "        </tr>\n",
       "        <tr>\n",
       "            <td>70        </td> <td>30       </td> <td>26     </td> <td>0       </td> <td>0          </td>\n",
       "        </tr>\n",
       "        <tr>\n",
       "            <td>75        </td> <td>0        </td> <td>33     </td> <td>0       </td> <td>0          </td>\n",
       "        </tr>\n",
       "        <tr>\n",
       "            <td>80        </td> <td>35       </td> <td>11     </td> <td>0       </td> <td>0          </td>\n",
       "        </tr>\n",
       "        <tr>\n",
       "            <td>95        </td> <td>35       </td> <td>21     </td> <td>0       </td> <td>0          </td>\n",
       "        </tr>\n",
       "    </tbody>\n",
       "</table>"
      ],
      "text/plain": [
       "basketball | sprinting | Day sum | yoga sum | walking sum\n",
       "0          | 0         | 376     | 345      | 500\n",
       "0          | 20        | 13      | 0        | 0\n",
       "45         | 0         | 14      | 0        | 90\n",
       "65         | 0         | 2       | 0        | 65\n",
       "70         | 30        | 26      | 0        | 0\n",
       "75         | 0         | 33      | 0        | 0\n",
       "80         | 35        | 11      | 0        | 0\n",
       "95         | 35        | 21      | 0        | 0"
      ]
     },
     "execution_count": 27,
     "metadata": {},
     "output_type": "execute_result"
    }
   ],
   "source": [
    "#exercise.with_column(\"Total Calories\", exercise.apply(compute_calories_r)) \n",
    "exercise.group(['basketball','sprinting'],np.sum)"
   ]
  },
  {
   "cell_type": "code",
   "execution_count": 6,
   "metadata": {},
   "outputs": [],
   "source": [
    "# 5 Project 1 Review\n",
    "child_mortality = Table.read_table('child_mortality.csv').relabeled(2, 'child_mortality_under_5_per_1000_born')\n",
    "fertility = Table.read_table('fertility.csv')\n"
   ]
  },
  {
   "cell_type": "code",
   "execution_count": null,
   "metadata": {},
   "outputs": [],
   "source": [
    "\n",
    "# 5.1\n",
    "# mean is larger. The distribution goes out farther on the positive end\n",
    "\n",
    "# 5.2 \n",
    "#100 - amount six or greater\n",
    "# 100 - 0.5*(4+5+4+3) = 92%\n",
    "ans = 100 - 0.5*(4+5+4+3)\n",
    "#5.3 \n",
    "y = 2000\n",
    "fert_y = fertility.where('time', y)\n",
    "sub_replace = 100*fert_y.where(2, are.below(2)).num_rows/fert_y.num_rows\n",
    "\n",
    "# 5.4\n",
    "child_mortality.where('time', 2000).join('geo',fertility.where('time', 2000), 'geo').scatter(2,4)\n",
    "\n",
    "# 5.5 Incrased fertility rate is generally associated with a higher rate of child mortality"
   ]
  }
 ],
 "metadata": {
  "kernelspec": {
   "display_name": "Python 3",
   "language": "python",
   "name": "python3"
  },
  "language_info": {
   "codemirror_mode": {
    "name": "ipython",
    "version": 3
   },
   "file_extension": ".py",
   "mimetype": "text/x-python",
   "name": "python",
   "nbconvert_exporter": "python",
   "pygments_lexer": "ipython3",
   "version": "3.6.5"
  }
 },
 "nbformat": 4,
 "nbformat_minor": 2
}
